{
 "cells": [
  {
   "cell_type": "markdown",
   "id": "e3537799-1067-40c3-826a-21bcdc7fd97a",
   "metadata": {},
   "source": [
    "# 2022F-BSE-014"
   ]
  },
  {
   "attachments": {
    "5fcbcdf9-4c58-402b-8d46-2872669ecdc6.png": {
     "image/png": "[encoded data removed]"
    }
   },
   "cell_type": "markdown",
   "id": "79762b56-d905-4793-8a36-c54386f8274e",
   "metadata": {},
   "source": [
    "![image.png](attachment:5fcbcdf9-4c58-402b-8d46-2872669ecdc6.png)"
   ]
  },
  {
   "attachments": {
    "a25ca820-989f-4fbb-bcfb-6709adfc2f39.png": {
     "image/png": "[encoded data removed]"
    }
   },
   "cell_type": "markdown",
   "id": "71136e83-f410-4dea-b776-e2bc9845bbaf",
   "metadata": {},
   "source": [
    "![image.png](attachment:a25ca820-989f-4fbb-bcfb-6709adfc2f39.png)"
   ]
  },
  {
   "cell_type": "code",
   "execution_count": 4,
   "id": "790645d0-e71f-40e2-89fc-601700c5c052",
   "metadata": {},
   "outputs": [
    {
     "name": "stdout",
     "output_type": "stream",
     "text": [
      "Computing the cosine similarity matrix...\n",
      "Done computing similarity matrix.\n"
     ]
    },
    {
     "name": "stdin",
     "output_type": "stream",
     "text": [
      "Enter user name::  A\n"
     ]
    },
    {
     "name": "stdout",
     "output_type": "stream",
     "text": [
      "username =  A\n",
      "Top recommended movies for user 'A':\n",
      "Movie 2: Predicted Rating 2.07\n",
      "Movie 1: Predicted Rating 1.00\n"
     ]
    }
   ],
   "source": [
    "import pandas as pd\n",
    "from surprise import Dataset, Reader\n",
    "from surprise import KNNWithMeans\n",
    "\n",
    "# Dataset with ratings\n",
    "ratings_dict = {\n",
    "    \"item\": [1, 2, 1, 2, 1, 2, 1, 2, 1],\n",
    "    \"user\": ['A', 'A', 'B', 'B', 'C', 'C', 'D', 'D', 'E'],\n",
    "    \"rating\": [1, 2, 2, 4, 2.5, 4, 4.5, 5, 3],\n",
    "}\n",
    "\n",
    "# Create Pandas DataFrame\n",
    "df = pd.DataFrame(ratings_dict)\n",
    "\n",
    "# Define the rating scale and load data into Surprise's format\n",
    "reader = Reader(rating_scale=(1, 5))\n",
    "data = Dataset.load_from_df(df[[\"user\", \"item\", \"rating\"]], reader)\n",
    "\n",
    "# Define item-based collaborative filtering with cosine similarity\n",
    "sim_options = {\n",
    "    \"name\": \"cosine\",\n",
    "    \"user_based\": False,  # Compute similarities between items\n",
    "}\n",
    "algo = KNNWithMeans(sim_options=sim_options)\n",
    "\n",
    "# Train the algorithm on the full training set\n",
    "training_set = data.build_full_trainset()\n",
    "algo.fit(training_set)\n",
    "\n",
    "# Function to recommend movies for a user\n",
    "def recommend_movies(user, all_items, algo, top_n=3):\n",
    "    \"\"\"\n",
    "    Recommends top N movies for the given user based on predicted ratings.\n",
    "    :param user: The user for whom recommendations are to be generated.\n",
    "    :param all_items: List of all items in the dataset.\n",
    "    :param algo: Trained algorithm.\n",
    "    :param top_n: Number of top recommendations to return.\n",
    "    :return: List of recommended movies with predicted ratings.\n",
    "    \"\"\"\n",
    "    predictions = []\n",
    "    for item in all_items:\n",
    "        prediction = algo.predict(user, item)\n",
    "        predictions.append((item, prediction.est))\n",
    "\n",
    "    # Sort predictions by estimated rating in descending order\n",
    "    sorted_predictions = sorted(predictions, key=lambda x: x[1], reverse=True)\n",
    "\n",
    "    # Return the top N recommendations\n",
    "    return sorted_predictions[:top_n]\n",
    "\n",
    "# List of all items in the dataset\n",
    "all_items = df[\"item\"].unique()\n",
    "\n",
    "# User for whom to recommend movies\n",
    "user = input('Enter user name:: ')\n",
    "print('username = ',user)\n",
    "# Get top 3 recommended movies for user 'E'\n",
    "recommended_movies = recommend_movies(user, all_items, algo, top_n=3)\n",
    "\n",
    "# Display the recommended movies\n",
    "print(f\"Top recommended movies for user '{user}':\")\n",
    "for movie, rating in recommended_movies:\n",
    "    print(f\"Movie {movie}: Predicted Rating {rating:.2f}\")\n"
   ]
  },
  {
   "cell_type": "markdown",
   "id": "57fcb67c-6bc2-48de-82e9-bf737352addd",
   "metadata": {},
   "source": [
    "# Home Task"
   ]
  },
  {
   "cell_type": "markdown",
   "id": "683314b4-c8ad-4033-a0da-f4e131ecb9ad",
   "metadata": {},
   "source": [
    "# E-Commerce Product Recommendation:"
   ]
  },
  {
   "cell_type": "code",
   "execution_count": 8,
   "id": "6bec6d0d-5019-4bed-9ed5-c98a4e19c9e1",
   "metadata": {},
   "outputs": [
    {
     "name": "stdout",
     "output_type": "stream",
     "text": [
      "Computing the cosine similarity matrix...\n",
      "Done computing similarity matrix.\n"
     ]
    },
    {
     "name": "stdin",
     "output_type": "stream",
     "text": [
      "Enter name::  R\n"
     ]
    },
    {
     "name": "stdout",
     "output_type": "stream",
     "text": [
      "username =  R\n",
      "Top recommended products for user 'R':\n",
      "Product 305: Predicted Rating 5.00\n",
      "Product 303: Predicted Rating 3.95\n",
      "Product 304: Predicted Rating 3.92\n"
     ]
    }
   ],
   "source": [
    "import pandas as pd\n",
    "from surprise import Dataset, Reader\n",
    "from surprise import KNNWithMeans\n",
    "\n",
    "# Dataset: Ratings of products by users\n",
    "ratings_dict = {\n",
    "    \"item\": [301, 302, 303, 301, 302, 304, 303, 304, 305],\n",
    "    \"user\": ['P', 'P', 'Q', 'Q', 'R', 'R', 'S', 'S', 'T'],\n",
    "    \"rating\": [2, 4, 3.5, 4.2, 1.8, 4.6, 3.9, 4.1, 5],\n",
    "}\n",
    "\n",
    "# Create Pandas DataFrame\n",
    "df = pd.DataFrame(ratings_dict)\n",
    "\n",
    "# Define the rating scale and load data into Surprise's format\n",
    "reader = Reader(rating_scale=(1, 5))\n",
    "data = Dataset.load_from_df(df[[\"user\", \"item\", \"rating\"]], reader)\n",
    "\n",
    "# Define item-based collaborative filtering with cosine similarity\n",
    "sim_options = {\n",
    "    \"name\": \"cosine\",\n",
    "    \"user_based\": False,  # Compute similarities between items\n",
    "}\n",
    "algo = KNNWithMeans(sim_options=sim_options)\n",
    "\n",
    "# Train the algorithm on the full training set\n",
    "training_set = data.build_full_trainset()\n",
    "algo.fit(training_set)\n",
    "\n",
    "# Function to recommend products for a user\n",
    "def recommend_products(user, all_items, algo, top_n=3):\n",
    "    \"\"\"\n",
    "    Recommends top N products for the given user based on predicted ratings.\n",
    "    :param user: The user for whom recommendations are to be generated.\n",
    "    :param all_items: List of all items in the dataset.\n",
    "    :param algo: Trained algorithm.\n",
    "    :param top_n: Number of top recommendations to return.\n",
    "    :return: List of recommended products with predicted ratings.\n",
    "    \"\"\"\n",
    "    predictions = []\n",
    "    for item in all_items:\n",
    "        prediction = algo.predict(user, item)\n",
    "        predictions.append((item, prediction.est))\n",
    "\n",
    "    # Sort predictions by estimated rating in descending order\n",
    "    sorted_predictions = sorted(predictions, key=lambda x: x[1], reverse=True)\n",
    "\n",
    "    # Return the top N recommendations\n",
    "    return sorted_predictions[:top_n]\n",
    "\n",
    "# List of all products in the dataset\n",
    "all_items = df[\"item\"].unique()\n",
    "\n",
    "# User for whom to recommend products\n",
    "user = input(\"Enter name:: \")\n",
    "print('username = ',user)\n",
    "# Get top 3 recommended products for user 'R'\n",
    "recommended_products = recommend_products(user, all_items, algo, top_n=3)\n",
    "\n",
    "# Display the recommended products\n",
    "print(f\"Top recommended products for user '{user}':\")\n",
    "for product, rating in recommended_products:\n",
    "    print(f\"Product {product}: Predicted Rating {rating:.2f}\")\n"
   ]
  },
  {
   "cell_type": "markdown",
   "id": "265f7d0f-94f5-486e-a825-cf5506dc5bd3",
   "metadata": {},
   "source": [
    "# FROM GIT HUB"
   ]
  },
  {
   "cell_type": "code",
   "execution_count": null,
   "id": "392bcdb4-6ae2-4783-ba8e-b213bf001b4d",
   "metadata": {},
   "outputs": [],
   "source": []
  }
 ],
 "metadata": {
  "kernelspec": {
   "display_name": "Python 3 (ipykernel)",
   "language": "python",
   "name": "python3"
  },
  "language_info": {
   "codemirror_mode": {
    "name": "ipython",
    "version": 3
   },
   "file_extension": ".py",
   "mimetype": "text/x-python",
   "name": "python",
   "nbconvert_exporter": "python",
   "pygments_lexer": "ipython3",
   "version": "3.12.3"
  }
 },
 "nbformat": 4,
 "nbformat_minor": 5
}
